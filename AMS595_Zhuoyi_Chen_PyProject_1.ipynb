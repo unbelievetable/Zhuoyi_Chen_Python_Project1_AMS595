{
 "cells": [
  {
   "cell_type": "markdown",
   "metadata": {
    "id": "xq__bChjD04e"
   },
   "source": [
    "# Python Assignment 1"
   ]
  },
  {
   "cell_type": "markdown",
   "metadata": {
    "id": "y7j2V0UDMYLG"
   },
   "source": [
    "⏱⏱⏱**Due: 10/20/2024 11:59:59 PM** ⏱⏱⏱\n",
    "\n",
    "Submit this notebook file and upload it to your git repo. Include a link to your git repo while submitting this file to Brightspace.\n",
    "\n",
    "You are not allowed to use chatgpt or any LLM in this assignment.\n",
    "Cooperation is allowed and encouraged; however, you must write up and submit your own work. If you cooperate with others, you must list their names here."
   ]
  },
  {
   "cell_type": "markdown",
   "metadata": {
    "id": "SUS30Ew9D04n"
   },
   "source": [
    "Total points: 100 (equivalent to 20 points after conversion)"
   ]
  },
  {
   "cell_type": "markdown",
   "metadata": {
    "id": "b_bgT3b2GYTB"
   },
   "source": [
    "## 0. Data Types, Structures, Indexing, and Slicing"
   ]
  },
  {
   "cell_type": "markdown",
   "metadata": {
    "id": "6yI1Jt57IwV2"
   },
   "source": [
    "Read the lecutre note as well as [this page](https://www.geeksforgeeks.org/mutable-vs-immutable-objects-in-python/) and [this page](https://www.geeksforgeeks.org/difference-between-shallow-and-deep-copy-of-a-class/). Complete the following questions.\n",
    "\n",
    "(5 points) Give some examples (at least 2) of mutable objects in Python.\n",
    "\n",
    "***Answer: Lists, dictionaries, and sets***\n",
    "\n",
    "---\n",
    "\n",
    "\n",
    "\n",
    "(5 points) Give some examples (at least 2) of immutable objects in Python.\n",
    "\n",
    "***Answer: Int, float, bool, string***\n",
    "\n",
    "---\n",
    "\n",
    "\n",
    "\n",
    "(10 points) State the differences between assignment, shallow copy, and deep copy. Any reasonable answer will get full credit.\n",
    "\n",
    "***Answer: Assignment does not actually make a copy, but rather assigning two variables to one thing. In shallow copy, the changes of elements in the new object may change the elements in the original object if referred. However, in deep copy, it creates a brand new object, and the original object will never change with the changes of the new object.***\n",
    "\n",
    "---\n",
    "\n",
    "\n",
    "\n"
   ]
  },
  {
   "cell_type": "markdown",
   "metadata": {
    "id": "OA8DxcrrGqZD"
   },
   "source": [
    "(10 points) Using string methods find() and rfind(), find the index of the first digit (i.e. 0) and the index of the last digit (5) in the string below. Then, using string slicing, extract the number (i.e. 0.595595) from this string and convert the extracted value to a floating point number. Print out this float to the console."
   ]
  },
  {
   "cell_type": "code",
   "execution_count": 1,
   "metadata": {
    "id": "AUuFXXWqG4D3"
   },
   "outputs": [
    {
     "name": "stdout",
     "output_type": "stream",
     "text": [
      "0.595595\n"
     ]
    }
   ],
   "source": [
    "text = \"F-DGFDDSFGFD-CFDSHdstgfdfe: tfsd  aaa bdsf 0.595595 fdsgfdbc\"\n",
    "\n",
    "#FIND THE INDICES\n",
    "index_of_zero = text.find('0')\n",
    "index_of_last_five = text.rfind('5')\n",
    "\n",
    "#EXTRACT AND SLICING\n",
    "extract_num = text[index_of_zero:index_of_last_five+1]\n",
    "float_num = float(extract_num)\n",
    "\n",
    "#PRINTING\n",
    "print(float_num)"
   ]
  },
  {
   "cell_type": "markdown",
   "metadata": {
    "id": "cnCljYgpD04p"
   },
   "source": [
    "## 1. Conditional Statements\n",
    "\n",
    "(10 points)\n",
    "Translate the following MATLAB code into Python using `if-elif-else`.\n",
    "```\n",
    "n = input('Enter a number: ');\n",
    "\n",
    "switch n\n",
    "    case -1\n",
    "        disp('negative one')\n",
    "    case 0\n",
    "        disp('zero')\n",
    "    case 1\n",
    "        disp('positive one')\n",
    "    otherwise\n",
    "        disp('other value')\n",
    "end\n",
    "```"
   ]
  },
  {
   "cell_type": "code",
   "execution_count": 2,
   "metadata": {
    "id": "9d8vl5zjD04q"
   },
   "outputs": [
    {
     "name": "stdout",
     "output_type": "stream",
     "text": [
      "Enter a number:8\n",
      "other value\n"
     ]
    }
   ],
   "source": [
    "n = int(input('Enter a number:'))\n",
    "\n",
    "if n == -1:\n",
    "    print('negative one')\n",
    "elif n == 0:\n",
    "    print('zero')\n",
    "elif n == 1:\n",
    "    print('positive one')\n",
    "else:\n",
    "    print('other value')"
   ]
  },
  {
   "cell_type": "markdown",
   "metadata": {
    "id": "sW9XiUPpD04s"
   },
   "source": [
    "## 2. While Loops\n",
    "\n",
    "(10 points) Write a Python program that calculates the factorial of a given number (you can assume an positive integer) using a while loop. Display the result to the console."
   ]
  },
  {
   "cell_type": "code",
   "execution_count": 3,
   "metadata": {
    "colab": {
     "base_uri": "https://localhost:8080/"
    },
    "id": "CRCERx8uD04t",
    "outputId": "1870b9d1-fe04-4ae7-e5ec-08ce640ce72e"
   },
   "outputs": [
    {
     "name": "stdout",
     "output_type": "stream",
     "text": [
      "355687428096000 6227020800\n"
     ]
    }
   ],
   "source": [
    "def factorial(n):\n",
    "    if n == 0:\n",
    "        return 1\n",
    "    else:\n",
    "        return n*factorial(n-1)\n",
    "\n",
    "print(factorial(17),factorial(13))\n",
    "\n",
    "# test cases\n",
    "# n = 17, Output: 355687428096000\n",
    "# n = 13, Output: 6227020800"
   ]
  },
  {
   "cell_type": "markdown",
   "metadata": {
    "id": "ZQ5SVMq6D04w"
   },
   "source": [
    "## 3. Functions\n",
    "\n",
    "(10 points) Write a function that determines if a number is prime."
   ]
  },
  {
   "cell_type": "code",
   "execution_count": 4,
   "metadata": {
    "colab": {
     "base_uri": "https://localhost:8080/"
    },
    "id": "6rGP5G3_D04x",
    "outputId": "00df2d17-b697-4146-968f-be4fa7cc3ba3"
   },
   "outputs": [
    {
     "name": "stdout",
     "output_type": "stream",
     "text": [
      "True\n",
      "False\n",
      "True\n"
     ]
    }
   ],
   "source": [
    "def is_prime(n):\n",
    "    if n == 1:\n",
    "        return False\n",
    "    else:\n",
    "        for i in range(2, n):\n",
    "            # Check if the number has a divisor\n",
    "            if (n%i == 0): \n",
    "                return False\n",
    "        else: \n",
    "            return True\n",
    "\n",
    "\n",
    "\n",
    "# test cases\n",
    "print(is_prime(2))      # Output: True\n",
    "print(is_prime(10))     # Output: False\n",
    "print(is_prime(17))     # Output: True"
   ]
  },
  {
   "cell_type": "markdown",
   "metadata": {
    "id": "Z6qg-fpQD04u"
   },
   "source": [
    "## 4. List Comprehension\n",
    "\n",
    "(10 points) Write a Python function called `prime_factors` that takes a relatively small integer as input and returns a list of its distinct prime factors. The function should use list comprehension to generate the list of distinct prime factors. You may use the function is_prime() defined in Q3.\n"
   ]
  },
  {
   "cell_type": "code",
   "execution_count": 5,
   "metadata": {
    "colab": {
     "base_uri": "https://localhost:8080/"
    },
    "id": "2hSCjYlOD04v",
    "outputId": "1024d2e2-7d24-4e65-9529-e5a82d2a3211"
   },
   "outputs": [
    {
     "name": "stdout",
     "output_type": "stream",
     "text": [
      "[2, 3, 5]\n",
      "[2, 7]\n",
      "[2, 3, 11]\n",
      "[2, 29]\n"
     ]
    }
   ],
   "source": [
    "def prime_factors(n):\n",
    "    factors = []\n",
    "    for i in range(1, n + 1):\n",
    "        \n",
    "        # If i is a factor\n",
    "        if n % i == 0:\n",
    "            \n",
    "            # If i is prime\n",
    "            if is_prime(i):\n",
    "                factors.append(i)\n",
    "\n",
    "    return factors\n",
    "\n",
    "\n",
    "# test cases\n",
    "print(prime_factors(30))  # Output: [2, 3, 5]\n",
    "print(prime_factors(56))  # Output: [2, 7]\n",
    "print(prime_factors(198))  # Output: [2, 3, 11]\n",
    "print(prime_factors(464))  # Output: [2, 29]"
   ]
  },
  {
   "cell_type": "markdown",
   "metadata": {
    "id": "dw4kZZCiD040"
   },
   "source": [
    "## 5. Recursive Functions\n",
    "(25 points) Write a function that uses recursion to generate the $n$th row of the Pascal's triangle.\n",
    "```\n",
    "              1\n",
    "           1     1\n",
    "        1     2     1\n",
    "      1    3     3     1\n",
    "   1    4     6     4    1\n",
    "1     5    10    10    5    1\n",
    "...\n",
    "...\n",
    "...\n",
    "```"
   ]
  },
  {
   "cell_type": "code",
   "execution_count": 6,
   "metadata": {
    "colab": {
     "base_uri": "https://localhost:8080/"
    },
    "id": "V8QFB_gKD040",
    "outputId": "4946dc49-2061-4057-e65d-9f48af44dac9"
   },
   "outputs": [
    {
     "name": "stdout",
     "output_type": "stream",
     "text": [
      "[1, 5, 10, 10, 5, 1]\n"
     ]
    }
   ],
   "source": [
    "def pascal(n):\n",
    "    # Base Case\n",
    "    if n == 1: \n",
    "        return [1]\n",
    "    else:\n",
    "        # Obtain the last row with recursion\n",
    "        last_row = pascal(n-1)\n",
    "        \n",
    "        # Initialization\n",
    "        row = [1]\n",
    "        \n",
    "        # Operations\n",
    "        for i in range(len(last_row)-1):\n",
    "            row.append(last_row[i]+last_row[i+1])\n",
    "        \n",
    "        # The ending 1\n",
    "        row += [1]\n",
    "        return row\n",
    "\n",
    "# test case\n",
    "print(pascal(6))  # output [1, 5, 10, 10, 5, 1]"
   ]
  },
  {
   "cell_type": "markdown",
   "metadata": {
    "id": "eZytgm0qD041"
   },
   "source": [
    "Rewrite the above function using only `while` or `for` loops instead of recursion."
   ]
  },
  {
   "cell_type": "code",
   "execution_count": 7,
   "metadata": {
    "colab": {
     "base_uri": "https://localhost:8080/"
    },
    "id": "UZ8f-akaD041",
    "outputId": "68ec5672-a40f-493f-e725-68b7471e76bc"
   },
   "outputs": [
    {
     "name": "stdout",
     "output_type": "stream",
     "text": [
      "[1, 5, 10, 10, 5, 1]\n"
     ]
    }
   ],
   "source": [
    "def pascal_by_loops(n):\n",
    "    # First row\n",
    "    row = [1]  \n",
    "    \n",
    "    for i in range(1, n):\n",
    "        # Start with 1\n",
    "        new_row = [1] \n",
    "        \n",
    "        for j in range(len(row) - 1):\n",
    "            new_row.append(row[j] + row[j + 1])\n",
    "            \n",
    "        # The ending 1\n",
    "        new_row.append(1)  \n",
    "        \n",
    "        # Complete recursion\n",
    "        row = new_row  \n",
    "    \n",
    "    return row  \n",
    "\n",
    "print(pascal_by_loops(6))"
   ]
  },
  {
   "cell_type": "markdown",
   "metadata": {
    "id": "HvHD6QHzVo9I"
   },
   "source": [
    "\n",
    "\n",
    "---\n",
    "\n",
    "\n",
    "（5 points) good coding practice and properly submitting your work to GitHub."
   ]
  }
 ],
 "metadata": {
  "anaconda-cloud": {},
  "colab": {
   "provenance": []
  },
  "kernelspec": {
   "display_name": "Python 3 (ipykernel)",
   "language": "python",
   "name": "python3"
  },
  "language_info": {
   "codemirror_mode": {
    "name": "ipython",
    "version": 3
   },
   "file_extension": ".py",
   "mimetype": "text/x-python",
   "name": "python",
   "nbconvert_exporter": "python",
   "pygments_lexer": "ipython3",
   "version": "3.9.13"
  }
 },
 "nbformat": 4,
 "nbformat_minor": 1
}
